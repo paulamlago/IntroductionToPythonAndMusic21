{
 "cells": [
  {
   "cell_type": "markdown",
   "metadata": {},
   "source": [
    "# Introducción a la programación: Python"
   ]
  },
  {
   "cell_type": "markdown",
   "metadata": {},
   "source": [
    "Python es un lenguaje de programación orientado al rápido procesamiento de datos, por lo que hace que sea idóneo para el procesamiento de la enorme cantidad de datos presentes en una partitura. \n",
    "\n",
    "Para esta clase utilizaremos [Jupyter Notebooks](https://jupyter.org/), que se trata de un intérprete de Python en el que se puede intercalar texto, código, imagenes, etc. Sin embargo, existen otros editores igual de conocidos para escribir scripts, como [VSCode](https://code.visualstudio.com/)."
   ]
  },
  {
   "cell_type": "markdown",
   "metadata": {},
   "source": [
    "En este notebook veremos los siguientes puntos:\n",
    "1. [Variables y Tipos](#1.-Variables-y-Tipos)\n",
    "2. [Condiciones](#2.-Condiciones)\n",
    "3. [Librerías](#3.-Librerías)\n",
    "4. [Estructuras de datos](#4.-Estructuras-de-datos)\n",
    "5. [Bucles](#5.-Bucles)\n",
    "6. [Funciones](#6.-Funciones)"
   ]
  },
  {
   "cell_type": "markdown",
   "metadata": {},
   "source": [
    "## 1. Variables y Tipos"
   ]
  },
  {
   "cell_type": "code",
   "execution_count": 2,
   "metadata": {},
   "outputs": [
    {
     "data": {
      "text/plain": [
       "int"
      ]
     },
     "execution_count": 2,
     "metadata": {},
     "output_type": "execute_result"
    }
   ],
   "source": [
    "primera_variable = 1\n",
    "type(primera_variable)"
   ]
  },
  {
   "cell_type": "code",
   "execution_count": 3,
   "metadata": {},
   "outputs": [
    {
     "data": {
      "text/plain": [
       "str"
      ]
     },
     "execution_count": 3,
     "metadata": {},
     "output_type": "execute_result"
    }
   ],
   "source": [
    "nombre_partitura = \"Ludwig_Van_Beethoven_Symphony_No._7_in_A_Major_Op._92.mxl\"\n",
    "type(nombre_partitura)"
   ]
  },
  {
   "cell_type": "code",
   "execution_count": 41,
   "metadata": {},
   "outputs": [
    {
     "data": {
      "text/plain": [
       "bool"
      ]
     },
     "execution_count": 41,
     "metadata": {},
     "output_type": "execute_result"
    }
   ],
   "source": [
    "boleano = True # False\n",
    "type(boleano)"
   ]
  },
  {
   "cell_type": "markdown",
   "metadata": {},
   "source": [
    "Las operaciones matemáticas básicas en python son +, -, *, / o **"
   ]
  },
  {
   "cell_type": "code",
   "execution_count": 68,
   "metadata": {},
   "outputs": [
    {
     "name": "stdout",
     "output_type": "stream",
     "text": [
      "16\n"
     ]
    }
   ],
   "source": [
    "operacion = 2**3\n",
    "print(operacion)"
   ]
  },
  {
   "cell_type": "markdown",
   "metadata": {},
   "source": [
    "La operación más común a realizar únicamente sobre cadenas de texto es: split(caracter)"
   ]
  },
  {
   "cell_type": "code",
   "execution_count": 15,
   "metadata": {},
   "outputs": [
    {
     "data": {
      "text/plain": [
       "['Ludwig',\n",
       " 'Van',\n",
       " 'Beethoven',\n",
       " 'Symphony',\n",
       " 'No.',\n",
       " '7',\n",
       " 'in',\n",
       " 'A',\n",
       " 'Major',\n",
       " 'Op.',\n",
       " '92..mxl']"
      ]
     },
     "execution_count": 15,
     "metadata": {},
     "output_type": "execute_result"
    }
   ],
   "source": [
    "nombre_partitura_partido = nombre_partitura.split('_')\n",
    "nombre_partitura_partido"
   ]
  },
  {
   "cell_type": "code",
   "execution_count": 19,
   "metadata": {},
   "outputs": [
    {
     "data": {
      "text/plain": [
       "['Ludwig_Van_Beethoven_Symphony_No', '_7_in_A_Major_Op', '_92', '', 'mxl']"
      ]
     },
     "execution_count": 19,
     "metadata": {},
     "output_type": "execute_result"
    }
   ],
   "source": [
    "nombre_partitura_partido = nombre_partitura.split('.')\n",
    "nombre_partitura_partido"
   ]
  },
  {
   "cell_type": "code",
   "execution_count": 20,
   "metadata": {},
   "outputs": [
    {
     "data": {
      "text/plain": [
       "list"
      ]
     },
     "execution_count": 20,
     "metadata": {},
     "output_type": "execute_result"
    }
   ],
   "source": [
    "type(nombre_partitura_partido)"
   ]
  },
  {
   "cell_type": "markdown",
   "metadata": {},
   "source": [
    "## 2. Condiciones"
   ]
  },
  {
   "cell_type": "markdown",
   "metadata": {},
   "source": [
    "En este apartado se estudiarán las diferentes condiciones que podemos darle al código para que se ejecute un trozo de código u otro.\n",
    "\n",
    "```python\n",
    "    if condicion:\n",
    "        codigo\n",
    "    else:\n",
    "        codigo\n",
    "```\n",
    "-------\n",
    "\n",
    "```python\n",
    "    if condicion:\n",
    "        codigo\n",
    "    elif condición 2:\n",
    "        codigo\n",
    "    ...\n",
    "    else:\n",
    "        codigo\n",
    "```"
   ]
  },
  {
   "cell_type": "code",
   "execution_count": 83,
   "metadata": {},
   "outputs": [
    {
     "name": "stdout",
     "output_type": "stream",
     "text": [
      "Nuestra variable tiene valor 2\n"
     ]
    }
   ],
   "source": [
    "variable = 2\n",
    "\n",
    "if variable == 2:\n",
    "    print('Nuestra variable tiene valor 2')\n",
    "else:\n",
    "    print('Nuestra variable tiene cualquier otro valor que no es 2')"
   ]
  },
  {
   "cell_type": "code",
   "execution_count": 86,
   "metadata": {},
   "outputs": [
    {
     "name": "stdout",
     "output_type": "stream",
     "text": [
      "Nuestra variable tiene valor 3\n"
     ]
    }
   ],
   "source": [
    "variable = 3\n",
    "\n",
    "if variable == 2:\n",
    "    print('Nuestra variable tiene valor 2')\n",
    "elif variable == 3:\n",
    "    print('Nuestra variable tiene valor 3')\n",
    "elif variable == 10:\n",
    "    print('Nuestra variable tiene valor 10')\n",
    "else:\n",
    "    print('Nuestra variable tiene cualquier otro valor que no es ni 2, ni 3, ni 10')"
   ]
  },
  {
   "cell_type": "markdown",
   "metadata": {},
   "source": [
    "## 3. Librerías"
   ]
  },
  {
   "cell_type": "markdown",
   "metadata": {},
   "source": [
    "Para poder acceder a este notebook, hemos tenido que instalar el paquete jupyterlab gracias al gestor de paquetes 'pip'.\n",
    "\n",
    "De la misma forma, otras librerías o paquetes no nativos de Python que queramos utilizar deben ser previamente instalados con dicho gestor. El formato del comando sería el mismo que ya se ha utilizado:\n",
    "```\n",
    "    pip install <nombre del paquete>\n",
    "```"
   ]
  },
  {
   "cell_type": "markdown",
   "metadata": {},
   "source": [
    "Librerías comunmente utilizadas:\n",
    "   - [Pandas](https://pandas.pydata.org/): Librería para analizar y manipular datos\n",
    "   - [Numpy](https://numpy.org/): Ecuaciones matemáticas\n",
    "   - [Music21](http://web.mit.edu/music21/): Procesamiento musical desde varios formatos, tanto MIDI como xml\n",
    "   - [Matplotlib](https://matplotlib.org/): Visualización de datos"
   ]
  },
  {
   "cell_type": "markdown",
   "metadata": {},
   "source": [
    "Dentro de cada librería disponemos de múltiples funciones, es por ello que a la hora de importarlas en nuestro código Python tenemos diferentes formas de hacerlo."
   ]
  },
  {
   "cell_type": "code",
   "execution_count": 26,
   "metadata": {},
   "outputs": [
    {
     "name": "stdout",
     "output_type": "stream",
     "text": [
      "La nota es D# , en la octava  3\n",
      "D-sharp in octave 3 Half Note\n"
     ]
    }
   ],
   "source": [
    "import music21 #os fallará si antes no habéis hecho pip install music21\n",
    "\n",
    "n = music21.note.Note(\"D#3\") #hay que escribir music21 delante de la función note\n",
    "n.duration.type = 'half'\n",
    "n.Lyric = 'Hola'\n",
    "\n",
    "print('La nota es', n.name, ', en la octava ', n.octave)\n",
    "print(n.fullName)"
   ]
  },
  {
   "cell_type": "code",
   "execution_count": 40,
   "metadata": {},
   "outputs": [
    {
     "name": "stdout",
     "output_type": "stream",
     "text": [
      "Nuestra variable n es un silencio\n"
     ]
    }
   ],
   "source": [
    "import music21 as m21\n",
    "\n",
    "n = m21.note.Rest() #hay que escribir m21 delante de la función note\n",
    "\n",
    "nota_o_silencio = n.isNote \n",
    "\n",
    "if nota_o_silencio is True:\n",
    "    print('Nuestra variable n es una nota')\n",
    "else:\n",
    "    print('Nuestra variable n es un silencio')\n",
    "    "
   ]
  },
  {
   "cell_type": "code",
   "execution_count": 36,
   "metadata": {},
   "outputs": [
    {
     "name": "stdout",
     "output_type": "stream",
     "text": [
      "La nota base que vamos a utilizar es F in octave 5 Whole Note\n",
      "Al transponer un intervalo m3 la nota F5 obtenemos la nota A-5\n",
      "Al transponer un intervalo P4 la nota F5 obtenemos la nota B-5\n"
     ]
    }
   ],
   "source": [
    "from music21 import note\n",
    "\n",
    "n = note.Note(\"F5\", quarterLength = 4)\n",
    "\n",
    "print(\"La nota base que vamos a utilizar es\", n.fullName)\n",
    "\n",
    "intervalo = 'm3'\n",
    "n2 = n.transpose(intervalo)\n",
    "print('Al transponer un intervalo', intervalo, 'la nota', n.nameWithOctave, 'obtenemos la nota', n2.nameWithOctave)\n",
    "\n",
    "intervalo = 'P4'\n",
    "n2 = n.transpose(intervalo)\n",
    "print('Al transponer un intervalo', intervalo, 'la nota', n.nameWithOctave, 'obtenemos la nota', n2.nameWithOctave)"
   ]
  },
  {
   "cell_type": "code",
   "execution_count": 46,
   "metadata": {},
   "outputs": [
    {
     "name": "stdout",
     "output_type": "stream",
     "text": [
      "Disponemos de una clave de G en la línea 2\n"
     ]
    }
   ],
   "source": [
    "from music21 import * \n",
    "\n",
    "tc = clef.TrebleClef()\n",
    "\n",
    "print('Disponemos de una clave de', tc.sign, 'en la línea', tc.line)"
   ]
  },
  {
   "cell_type": "markdown",
   "metadata": {},
   "source": [
    "Conclusión: Una librería siempre debe importarse antes de utilizarla, y destacamos 4 formas de hacerlo:\n",
    " - ```python import librería```\n",
    " - ```python import librería as seudónimo```\n",
    " - ```python from librería import funcion```\n",
    " - ```python from librería import *```"
   ]
  },
  {
   "cell_type": "markdown",
   "metadata": {},
   "source": [
    "## 4. Estructuras de datos"
   ]
  },
  {
   "cell_type": "markdown",
   "metadata": {},
   "source": [
    "En este apartado estudiaremos las estructuras más utilizadas: listas y diccionarios (nativas de Python) y los DataFrames, de la librería Pandas."
   ]
  },
  {
   "cell_type": "markdown",
   "metadata": {},
   "source": [
    "### Listas"
   ]
  },
  {
   "cell_type": "code",
   "execution_count": 69,
   "metadata": {},
   "outputs": [
    {
     "name": "stdout",
     "output_type": "stream",
     "text": [
      "El primer elemento es 1, el segundo elemento es 2 y el último es 6\n"
     ]
    }
   ],
   "source": [
    "primera_lista = [1, 2, 3, 4, 5, 6]\n",
    "\n",
    "# manipulando la lista\n",
    "primer_elemento = primera_lista[0] #en informática todo empieza en 0!\n",
    "segundo_elemento = primera_lista[1]\n",
    "ultimo_elemento = primera_lista[-1]\n",
    "\n",
    "print(\"El primer elemento es {}, el segundo elemento es {} y el último es {}\".format(primer_elemento, segundo_elemento, ultimo_elemento))"
   ]
  },
  {
   "cell_type": "code",
   "execution_count": 61,
   "metadata": {},
   "outputs": [
    {
     "name": "stdout",
     "output_type": "stream",
     "text": [
      "['bbbbbbb', 'bbbbbbb', 'bbbbbb', 'bbbb', 'bbb', 'bb', 'b']\n",
      "['s', 'ss', 'sss', 'ssss', 'ssssss', 'sssssss', 'sssssss']\n"
     ]
    }
   ],
   "source": [
    "#accediendo a un rango de elementos de una lista\n",
    "key_signature = ['bbbbbbb', 'bbbbbbb', 'bbbbbb', 'bbbb', 'bbb', 'bb', 'b', \n",
    "                 'n', 's', 'ss', 'sss', 'ssss', 'ssssss', 'sssssss', 'sssssss']\n",
    "\n",
    "print(key_signature[:7])\n",
    "index_n = key_signature.index('n')\n",
    "print(key_signature[index_n + 1:])"
   ]
  },
  {
   "cell_type": "code",
   "execution_count": 62,
   "metadata": {},
   "outputs": [
    {
     "name": "stdout",
     "output_type": "stream",
     "text": [
      "21 15\n"
     ]
    }
   ],
   "source": [
    "# Operaciones sobre listas\n",
    "suma_elementos = sum(primera_lista)\n",
    "longitud_key_signature_list = len(key_signature)\n",
    "print(suma_elementos, longitud_key_signature_list)"
   ]
  },
  {
   "cell_type": "markdown",
   "metadata": {},
   "source": [
    "### Diccionarios"
   ]
  },
  {
   "cell_type": "code",
   "execution_count": 1,
   "metadata": {},
   "outputs": [
    {
     "name": "stdout",
     "output_type": "stream",
     "text": [
      "Nuestro usuario se llama Pedro , tiene 22 años y maneja los programas: ['Finale', 'Musescore']\n"
     ]
    }
   ],
   "source": [
    "diccionario = {'nombre' : 'Pedro', 'edad' : 22, 'programas': ['Finale','Musescore'] }\n",
    "\n",
    "\n",
    "print('Nuestro usuario se llama', diccionario['nombre'], ', tiene', str(diccionario['edad']), 'años y maneja los programas:', diccionario['programas'])"
   ]
  },
  {
   "cell_type": "markdown",
   "metadata": {},
   "source": [
    "### DataFrame"
   ]
  },
  {
   "cell_type": "code",
   "execution_count": 4,
   "metadata": {},
   "outputs": [
    {
     "data": {
      "text/html": [
       "<div>\n",
       "<style scoped>\n",
       "    .dataframe tbody tr th:only-of-type {\n",
       "        vertical-align: middle;\n",
       "    }\n",
       "\n",
       "    .dataframe tbody tr th {\n",
       "        vertical-align: top;\n",
       "    }\n",
       "\n",
       "    .dataframe thead th {\n",
       "        text-align: right;\n",
       "    }\n",
       "</style>\n",
       "<table border=\"1\" class=\"dataframe\">\n",
       "  <thead>\n",
       "    <tr style=\"text-align: right;\">\n",
       "      <th></th>\n",
       "      <th>nombres</th>\n",
       "      <th>notas</th>\n",
       "    </tr>\n",
       "  </thead>\n",
       "  <tbody>\n",
       "    <tr>\n",
       "      <th>0</th>\n",
       "      <td>Pedro</td>\n",
       "      <td>7.35</td>\n",
       "    </tr>\n",
       "    <tr>\n",
       "      <th>1</th>\n",
       "      <td>Teresa</td>\n",
       "      <td>6.78</td>\n",
       "    </tr>\n",
       "    <tr>\n",
       "      <th>2</th>\n",
       "      <td>Almudena</td>\n",
       "      <td>9.95</td>\n",
       "    </tr>\n",
       "    <tr>\n",
       "      <th>3</th>\n",
       "      <td>Javier</td>\n",
       "      <td>5.00</td>\n",
       "    </tr>\n",
       "  </tbody>\n",
       "</table>\n",
       "</div>"
      ],
      "text/plain": [
       "    nombres  notas\n",
       "0     Pedro   7.35\n",
       "1    Teresa   6.78\n",
       "2  Almudena   9.95\n",
       "3    Javier   5.00"
      ]
     },
     "execution_count": 4,
     "metadata": {},
     "output_type": "execute_result"
    }
   ],
   "source": [
    "import pandas as pd\n",
    "\n",
    "data = {'nombres': ['Pedro', 'Teresa', 'Almudena', 'Javier'],\n",
    "       'notas': [7.35, 6.78, 9.95, 5]}\n",
    "\n",
    "alumnos = pd.DataFrame(data)\n",
    "\n",
    "alumnos"
   ]
  },
  {
   "cell_type": "code",
   "execution_count": 7,
   "metadata": {},
   "outputs": [
    {
     "name": "stdout",
     "output_type": "stream",
     "text": [
      "['Pedro', 'Teresa', 'Almudena', 'Javier']\n",
      "[7.35, 6.78, 9.95, 5.0]\n"
     ]
    }
   ],
   "source": [
    "print(list(df.nombres)) #si no convertimos la columna nombres a una lista, se muestra en formato vertical\n",
    "print(list(df.notas))"
   ]
  },
  {
   "cell_type": "markdown",
   "metadata": {},
   "source": [
    "## 5. Bucles"
   ]
  },
  {
   "cell_type": "markdown",
   "metadata": {},
   "source": [
    "A continuación veremos los dos tipos de bucles existentes en Python. El while y for."
   ]
  },
  {
   "cell_type": "markdown",
   "metadata": {},
   "source": [
    "```python\n",
    "while condición:\n",
    "    código que cambia la condición\n",
    "```\n",
    "\n",
    "```python\n",
    "for elemento in lista:\n",
    "    código\n",
    "```"
   ]
  },
  {
   "cell_type": "markdown",
   "metadata": {},
   "source": [
    "Programa que utiliza la lista llamada 'primera_lista' para coger los elementos hasta que se obtenga una suma de 10 con los mismos."
   ]
  },
  {
   "cell_type": "code",
   "execution_count": 73,
   "metadata": {},
   "outputs": [
    {
     "name": "stdout",
     "output_type": "stream",
     "text": [
      "Hemos alcanzado la suma 10 con los elementos: [1, 2, 3, 4]\n"
     ]
    }
   ],
   "source": [
    "sum_elements = 0 #inicialización de la condición\n",
    "list_index = 0 #para apuntar a la siguiente posición de primera_lista\n",
    "elements_added = [] #para comprobar cuales son los elementos que dan tal suma\n",
    "\n",
    "while sum_elements < 10:\n",
    "    element = primera_lista[list_index]\n",
    "    elements_added.append(element)\n",
    "    list_index += 1\n",
    "    sum_elements += element #cambio de la condición\n",
    "print('Hemos alcanzado la suma', sum_elements, 'con los elementos:', elements_added)"
   ]
  },
  {
   "cell_type": "markdown",
   "metadata": {},
   "source": [
    "Programa que recorre la lista key_signature para contar cuántos bemoles o sostenidos tiene cada elemento."
   ]
  },
  {
   "cell_type": "code",
   "execution_count": 77,
   "metadata": {},
   "outputs": [
    {
     "name": "stdout",
     "output_type": "stream",
     "text": [
      "7 bemoles\n",
      "7 bemoles\n",
      "6 bemoles\n",
      "4 bemoles\n",
      "3 bemoles\n",
      "2 bemoles\n",
      "1 bemol\n",
      "Ninguna alteración\n",
      "1 sostenido\n",
      "2 sostenidos\n",
      "3 sostenidos\n",
      "4 sostenidos\n",
      "6 sostenidos\n",
      "7 sostenidos\n",
      "7 sostenidos\n"
     ]
    }
   ],
   "source": [
    "for ks in key_signature:\n",
    "    #distinguimos entre bemoles o sostenidos\n",
    "    bemol = 'b' in ks\n",
    "    sostenido = 's' in ks\n",
    "    if bemol or sostenido:\n",
    "        if len(ks) > 1:\n",
    "            print(len(ks), 'bemoles' if bemol else 'sostenidos')\n",
    "        else:\n",
    "            print(len(ks), 'bemol' if bemol else 'sostenido')\n",
    "    else:\n",
    "        print('Ninguna alteración')\n",
    "        "
   ]
  },
  {
   "cell_type": "markdown",
   "metadata": {},
   "source": [
    "Recorremos el dataFrame e imprimimos la información de la que disponemos en alumnos."
   ]
  },
  {
   "cell_type": "code",
   "execution_count": 11,
   "metadata": {},
   "outputs": [
    {
     "name": "stdout",
     "output_type": "stream",
     "text": [
      "Pedro ha obtenido una nota de:  7.35\n",
      "Teresa ha obtenido una nota de:  6.78\n",
      "Almudena ha obtenido una nota de:  9.95\n",
      "Javier ha obtenido una nota de:  5.0\n"
     ]
    }
   ],
   "source": [
    "for i in alumnos.index: #recorremos las filas\n",
    "    print(alumnos.loc[i, 'nombres'], 'ha obtenido una nota de: ', alumnos.loc[i, 'notas'])"
   ]
  },
  {
   "cell_type": "markdown",
   "metadata": {},
   "source": [
    "## 6. Funciones"
   ]
  },
  {
   "cell_type": "markdown",
   "metadata": {},
   "source": [
    "Para ahorrar código, siempre podemos utilizar las funciones. Esto son trozos de código que se 'guardan' bajo un nombre, de tal forma que con llamar a la función, estaríamos ejecutando todo el código que ésta contenga, sin necesitad de escribirlo todo otra vez. Resulta útil cuando necesitamos ejecutar muchas veces el mismo trozo de código, ahorrándonos muchas líneas.\n",
    "\n",
    "```python\n",
    "def nombre_función():\n",
    "    código reutilizable\n",
    "    \n",
    "    \n",
    "def nombre_función2(<arg1>, <arg2>,...):\n",
    "    código reutilizable\n",
    "    return valor\n",
    "```"
   ]
  },
  {
   "cell_type": "markdown",
   "metadata": {},
   "source": [
    "Primer ejemplo"
   ]
  },
  {
   "cell_type": "code",
   "execution_count": 87,
   "metadata": {},
   "outputs": [],
   "source": [
    "def hola():\n",
    "    print('Hola Mundo!')"
   ]
  },
  {
   "cell_type": "code",
   "execution_count": 88,
   "metadata": {},
   "outputs": [
    {
     "name": "stdout",
     "output_type": "stream",
     "text": [
      "Hola Mundo!\n"
     ]
    }
   ],
   "source": [
    "hola()"
   ]
  },
  {
   "cell_type": "markdown",
   "metadata": {},
   "source": [
    "Segundo ejemplo"
   ]
  },
  {
   "cell_type": "code",
   "execution_count": 89,
   "metadata": {},
   "outputs": [],
   "source": [
    "def transpose_note():\n",
    "    n = note.Note(\"F5\", quarterLength = 4)\n",
    "    intervalo = 'P4'\n",
    "    n2 = n.transpose(intervalo)\n",
    "    print('Al transponer un intervalo', intervalo, 'la nota', n.nameWithOctave, 'obtenemos la nota', n2.nameWithOctave)"
   ]
  },
  {
   "cell_type": "code",
   "execution_count": 91,
   "metadata": {},
   "outputs": [
    {
     "name": "stdout",
     "output_type": "stream",
     "text": [
      "Al transponer un intervalo P4 la nota F5 obtenemos la nota B-5\n"
     ]
    }
   ],
   "source": [
    "transpose_note()"
   ]
  },
  {
   "cell_type": "markdown",
   "metadata": {},
   "source": [
    "Tercer ejemplo"
   ]
  },
  {
   "cell_type": "code",
   "execution_count": 92,
   "metadata": {},
   "outputs": [],
   "source": [
    "def transpose_note(note, interval):\n",
    "    n2 = note.transpose(interval)\n",
    "    print('Al transponer un intervalo', interval, 'la nota', note.nameWithOctave, 'obtenemos la nota', n2.nameWithOctave)"
   ]
  },
  {
   "cell_type": "code",
   "execution_count": 94,
   "metadata": {},
   "outputs": [
    {
     "name": "stdout",
     "output_type": "stream",
     "text": [
      "Al transponer un intervalo P4 la nota F5 obtenemos la nota B-5\n"
     ]
    }
   ],
   "source": [
    "n = note.Note(\"F5\", quarterLength = 4)\n",
    "intervalo = 'P4'\n",
    "transpose_note(n, intervalo)"
   ]
  },
  {
   "cell_type": "markdown",
   "metadata": {},
   "source": [
    "Quinto ejemplo"
   ]
  },
  {
   "cell_type": "code",
   "execution_count": 97,
   "metadata": {},
   "outputs": [],
   "source": [
    "def resta(elemento1, elemento2):\n",
    "    resta = elemento1 - elemento2\n",
    "    return resta"
   ]
  },
  {
   "cell_type": "code",
   "execution_count": 99,
   "metadata": {},
   "outputs": [
    {
     "name": "stdout",
     "output_type": "stream",
     "text": [
      "5\n"
     ]
    }
   ],
   "source": [
    "resultado = resta(10, 5)\n",
    "print(resultado)"
   ]
  },
  {
   "cell_type": "code",
   "execution_count": null,
   "metadata": {},
   "outputs": [],
   "source": []
  }
 ],
 "metadata": {
  "kernelspec": {
   "display_name": "Python 3.6.8 64-bit",
   "language": "python",
   "name": "python36864bit6c338ff9c60748d9a067f0bf2a828c34"
  },
  "language_info": {
   "codemirror_mode": {
    "name": "ipython",
    "version": 3
   },
   "file_extension": ".py",
   "mimetype": "text/x-python",
   "name": "python",
   "nbconvert_exporter": "python",
   "pygments_lexer": "ipython3",
   "version": "3.6.8"
  }
 },
 "nbformat": 4,
 "nbformat_minor": 4
}
